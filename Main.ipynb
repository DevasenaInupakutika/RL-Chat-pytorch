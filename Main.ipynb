{
 "cells": [
  {
   "cell_type": "code",
   "execution_count": 1,
   "metadata": {},
   "outputs": [
    {
     "name": "stdout",
     "output_type": "stream",
     "text": [
      " I have a GPU?  True\n"
     ]
    }
   ],
   "source": [
    "from __future__ import unicode_literals, print_function, division\n",
    "from io import open\n",
    "import unicodedata\n",
    "import string\n",
    "import re\n",
    "import random\n",
    "import pickle\n",
    "%matplotlib inline\n",
    "\n",
    "import torch\n",
    "import torch.nn as nn\n",
    "from torch.autograd import Variable\n",
    "from torch import optim\n",
    "import torch.nn.functional as F\n",
    "\n",
    "use_cuda = torch.cuda.is_available()\n",
    "print(\" I have a GPU? \", use_cuda)"
   ]
  },
  {
   "cell_type": "markdown",
   "metadata": {
    "collapsed": true
   },
   "source": [
    "# Skip the data Pre-Processing \n",
    "\n",
    "### you already have the pickle files, just run the 2 cells below to collect the 3 pickle files that are the training data, they are just Lang Class instances with the word2index and index2word mappings and n_words for vocab size, the class Lang must be defined before the pickle and populate it with data. "
   ]
  },
  {
   "cell_type": "code",
   "execution_count": 2,
   "metadata": {
    "collapsed": true
   },
   "outputs": [],
   "source": [
    "class Lang:\n",
    "    def __init__(self, name):\n",
    "        self.name = name\n",
    "        self.word2index = {}\n",
    "        self.word2count = {}\n",
    "        self.index2word = {0: \"SOS\", 1: \"EOS\"}\n",
    "        self.n_words = 2  # Count SOS and EOS\n",
    "\n",
    "    def addSentence(self, sentence):\n",
    "        for word in sentence.split(' '):\n",
    "            self.addWord(word)\n",
    "\n",
    "    def addWord(self, word):\n",
    "        if word not in self.word2index:\n",
    "            self.word2index[word] = self.n_words\n",
    "            self.word2count[word] = 1\n",
    "            self.index2word[self.n_words] = word\n",
    "            self.n_words += 1\n",
    "        else:\n",
    "            self.word2count[word] += 1\n",
    "\n",
    "# Maximum length of the sequences you are mapping \n",
    "MAX_LENGTH = 20 #50\n",
    "MIN_LENGTH = 4 #2\n",
    "\n",
    "# start of sentence and end of sentence indices\n",
    "SOS_token = 0\n",
    "EOS_token = 1"
   ]
  },
  {
   "cell_type": "code",
   "execution_count": 3,
   "metadata": {},
   "outputs": [
    {
     "data": {
      "text/plain": [
       "51"
      ]
     },
     "execution_count": 3,
     "metadata": {},
     "output_type": "execute_result"
    }
   ],
   "source": [
    "input_lang = pickle.load( open( \"saved_pickle/input_lang_4_20.p\", \"rb\" ) )\n",
    "output_lang = pickle.load( open(  \"saved_pickle/output_lang_4_20.p\", \"rb\" ) )\n",
    "pairs = pickle.load( open( \"saved_pickle/pairs_4_20.p\", \"rb\" ) )\n",
    "\n",
    "# see the way it works\n",
    "\n",
    "#input_lang.n_words, input_lang.word2index[\"froid\"], input_lang.index2word[33]\n",
    "output_lang.word2index[\"?\"]"
   ]
  },
  {
   "cell_type": "code",
   "execution_count": 9,
   "metadata": {},
   "outputs": [
    {
     "name": "stdout",
     "output_type": "stream",
     "text": [
      "number of training examples 525845\n"
     ]
    }
   ],
   "source": [
    "print(\"number of training examples\",len(pairs))"
   ]
  },
  {
   "cell_type": "markdown",
   "metadata": {
    "collapsed": true
   },
   "source": [
    "## Dont have to run these, the pre-processing from ../data folder/input-output.txt\n",
    " final outputs of the preprocessing steps, they are just Lang Class instances with the word2index and index2word mappings and n_words for vocab size, the class Lang must be defined before the pickle and populate it with data. "
   ]
  },
  {
   "cell_type": "code",
   "execution_count": 4,
   "metadata": {
    "collapsed": true
   },
   "outputs": [],
   "source": [
    "# Turn a Unicode string to plain ASCII, thanks to\n",
    "# http://stackoverflow.com/a/518232/2809427\n",
    "def unicodeToAscii(s):\n",
    "    return ''.join(\n",
    "        c for c in unicodedata.normalize('NFD', s)\n",
    "        if unicodedata.category(c) != 'Mn'\n",
    "    )\n",
    "\n",
    "# Lowercase, trim, and remove non-letter characters\n",
    "\n",
    "\n",
    "def normalizeString(s):\n",
    "    s = unicodeToAscii(s.lower().strip())\n",
    "    s = re.sub(r\"([.!?])\", r\" \\1\", s)\n",
    "    s = re.sub(r\"[^a-zA-Z.!?]+\", r\" \", s)\n",
    "    s = re.sub(\"newlinechar\", \"\", s)\n",
    "    return s\n",
    "\n",
    "\n",
    "\n",
    "def readLangs(lang1, lang2, reverse=False):\n",
    "    print(\"Reading lines...\")\n",
    "\n",
    "    # Read the file and split into lines\n",
    "    lines = open('../data/%s-%s.txt' % (lang1, lang2), encoding='utf-8').\\\n",
    "        read().strip().split('\\n')\n",
    "\n",
    "    # Split every line into pairs and normalize\n",
    "    pairs = [[normalizeString(s) for s in l.split('\\t')] for l in lines]\n",
    "\n",
    "    # Reverse pairs, make Lang instances\n",
    "    if reverse:\n",
    "        pairs = [list(reversed(p)) for p in pairs]\n",
    "        input_lang = Lang(lang2)\n",
    "        output_lang = Lang(lang1)\n",
    "    else:\n",
    "        input_lang = Lang(lang1)\n",
    "        output_lang = Lang(lang2)\n",
    "\n",
    "    return input_lang, output_lang, pairs\n",
    "\n",
    "\n",
    "def filterPair(p):\n",
    "    '''\n",
    "    Your Preferences here\n",
    "    '''\n",
    "    return len(p[0].split(' ')) < MAX_LENGTH and \\\n",
    "           len(p[1].split(' ')) < MAX_LENGTH and \\\n",
    "           len(p[1].split(' ')) > MIN_LENGTH and \\\n",
    "           \"https://\" not in p[1] \n",
    "        \n",
    "\n",
    "\n",
    "def filterPairs(pairs):\n",
    "    return [pair for pair in pairs if filterPair(pair)]\n",
    "\n",
    "def prepareData(lang1, lang2, reverse=False, Filter = False):\n",
    "    input_lang, output_lang, pairs = readLangs(lang1, lang2, reverse)\n",
    "    print(\"Read %s sentence pairs\" % len(pairs))\n",
    "    if Filter:\n",
    "        pairs = filterPairs(pairs)\n",
    "        print(\"Trimmed to %s sentence pairs\" % len(pairs))\n",
    "    print(\"Counting words...\")\n",
    "    for pair in pairs:\n",
    "        input_lang.addSentence(pair[0])\n",
    "        output_lang.addSentence(pair[1])\n",
    "    print(\"Counted words:\")\n",
    "    print(input_lang.name, input_lang.n_words)\n",
    "    print(output_lang.name, output_lang.n_words)\n",
    "    return input_lang, output_lang, pairs"
   ]
  },
  {
   "cell_type": "code",
   "execution_count": 53,
   "metadata": {},
   "outputs": [
    {
     "name": "stdout",
     "output_type": "stream",
     "text": [
      "Reading lines...\n",
      "Read 622654 sentence pairs\n",
      "Trimmed to 280811 sentence pairs\n",
      "Counting words...\n",
      "Counted words:\n",
      "input 36663\n",
      "output 38082\n"
     ]
    }
   ],
   "source": [
    "#input_lang, output_lang, pairs = prepareData('eng', 'fra', True)\n",
    "#print(random.choice(pairs))\n",
    "#input_lang.index2word[15] # input is french\n",
    "\n",
    "#pickle.dump( input_lang, open( \"saved_pickle/input_lang.p\", \"wb\" ) )\n",
    "#pickle.dump( output_lang, open( \"saved_pickle/output_lang.p\", \"wb\" ) )\n",
    "#pickle.dump( pairs, open( \"saved_pickle/pairs.p\", \"wb\" ) )\n",
    "\n",
    "input_lang, output_lang, pairs = prepareData('input', 'output', reverse=False, Filter = True)"
   ]
  },
  {
   "cell_type": "code",
   "execution_count": 54,
   "metadata": {
    "collapsed": true
   },
   "outputs": [],
   "source": [
    "pickle.dump( input_lang, open( \"saved_pickle/input_lang_4_20.p\", \"wb\" ) )\n",
    "pickle.dump( output_lang, open( \"saved_pickle/output_lang_4_20.p\", \"wb\" ) )\n",
    "pickle.dump( pairs, open( \"saved_pickle/pairs_4_20.p\", \"wb\" ) )"
   ]
  },
  {
   "cell_type": "markdown",
   "metadata": {},
   "source": [
    "# Start here after you have the pickle files, skip above\n",
    "\n",
    "## Just some Helper functions used in the Main training loop and main model \n",
    "\n",
    "### Example training output\n",
    "\n",
    "time elapsed, estimated time remaining given, and progress %, Loss\n",
    "\n",
    "1m 52s (- 26m 10s) (5000 6%) 2.8937 \n",
    "\n",
    "3m 40s (- 23m 50s) (10000 13%) 2.3437\n",
    "\n",
    "5m 31s (- 22m 4s) (15000 20%) 2.0382"
   ]
  },
  {
   "cell_type": "code",
   "execution_count": 5,
   "metadata": {
    "collapsed": true
   },
   "outputs": [],
   "source": [
    "\n",
    "##############  Converts [\" input string \", \" output string \"] (pair) , appends <EOS> index and returns indices ######\n",
    "\n",
    "def indexesFromSentence(lang, sentence):\n",
    "    return [lang.word2index[word] for word in sentence.split(' ')]\n",
    "\n",
    "\n",
    "def variableFromSentence(lang, sentence):\n",
    "    indexes = indexesFromSentence(lang, sentence)\n",
    "    indexes.append(EOS_token)\n",
    "    result = Variable(torch.LongTensor(indexes).view(-1, 1))\n",
    "    if use_cuda:\n",
    "        return result.cuda()\n",
    "    else:\n",
    "        return result\n",
    "\n",
    "\n",
    "def variablesFromPair(pair):\n",
    "    input_variable = variableFromSentence(input_lang, pair[0])\n",
    "    target_variable = variableFromSentence(output_lang, pair[1])\n",
    "    return (input_variable, target_variable)\n",
    "\n",
    "######## the pair indices are returned as 2 LongTensor Variables in torch #############\n",
    "\n",
    "\n",
    "######## Tells you how long youve been training and how much longer you have left ####\n",
    "\n",
    "import time\n",
    "import math\n",
    "\n",
    "\n",
    "def asMinutes(s):\n",
    "    m = math.floor(s / 60)\n",
    "    s -= m * 60\n",
    "    return '%dm %ds' % (m, s)\n",
    "\n",
    "\n",
    "def timeSince(since, percent):\n",
    "    now = time.time()\n",
    "    s = now - since\n",
    "    es = s / (percent)\n",
    "    rs = es - s\n",
    "    return '%s (- %s)' % (asMinutes(s), asMinutes(rs))\n",
    "\n",
    "######################################################################3\n",
    "\n",
    "############### plot_losses #######################################\n",
    "\n",
    "import matplotlib.pyplot as plt\n",
    "import matplotlib.ticker as ticker\n",
    "import numpy as np\n",
    "\n",
    "\n",
    "def showPlot(points):\n",
    "    plt.figure()\n",
    "    fig, ax = plt.subplots()\n",
    "    # this locator puts ticks at regular intervals\n",
    "    loc = ticker.MultipleLocator(base=0.2)\n",
    "    ax.yaxis.set_major_locator(loc)\n",
    "    plt.plot(points)\n",
    "    \n",
    "####################################################################"
   ]
  },
  {
   "cell_type": "markdown",
   "metadata": {},
   "source": [
    "## GRU - The Gated recurrent unit - FYI\n",
    "\n",
    "Here is the way torch formulates each layer of the GRU\n",
    "\n",
    "\\begin{split}\\begin{array}{ll}\n",
    "r_t = \\sigma(W_{ir} x_t + b_{ir} + W_{hr} h_{(t-1)} + b_{hr}) \\\\\n",
    "z_t = \\sigma(W_{iz} x_t + b_{iz} + W_{hz} h_{(t-1)} + b_{hz}) \\\\\n",
    "n_t = \\tanh(W_{in} x_t + b_{in} + r_t * (W_{hn} h_{(t-1)}+ b_{hn})) \\\\\n",
    "h_t = (1 - z_t) * n_t + z_t * h_{(t-1)} \\\\\n",
    "\\end{array}\\end{split}\n",
    "\n",
    "where h_t is the hidden state at time t, x_t is the hidden state of the previous layer at time t or input_t for the first layer, and r_t, z_t, n_t are the reset, input, and new gates, respectively. σ is the sigmoid function\n",
    "\n",
    "### Instantiation Parameters:\t\n",
    "\n",
    "input_size – The number of expected features in the input x \n",
    "\n",
    "hidden_size – The number of features in the hidden state h\n",
    "\n",
    "num_layers – Number of recurrent layers.\n",
    "\n",
    "bias – If False, then the layer does not use bias weights b_ih and b_hh. Default: True\n",
    "\n",
    "batch_first – If True, then the input and output tensors are provided as (batch, seq, feature)\n",
    "\n",
    "dropout – If non-zero, introduces a dropout layer on the outputs of each RNN layer except the last layer\n",
    "p – probability of an element to be zeroed. Default: 0.5\n",
    "\n",
    "bidirectional – If True, becomes a bidirectional RNN. Default: False\n",
    "\n",
    "\n",
    "#### Inputs: input, h_0\n",
    "\n",
    "input (seq_len, batch, input_size): tensor containing the features of the input sequence. The input can also be a packed variable length sequence. See torch.nn.utils.rnn.pack_padded_sequence() for details.\n",
    "\n",
    "h_0 (num_layers * num_directions(2 for bidirectional), batch, hidden_size): tensor containing the initial hidden state for each element in the batch. Defaults to zero if not provided.\n",
    "\n",
    "#### Outputs: output, h_n\n",
    "\n",
    "output (seq_len, batch, hidden_size * num_directions): tensor containing the output features h_t from the last layer of the RNN, for each t. If a torch.nn.utils.rnn.PackedSequence has been given as the input, the output will also be a packed sequence.\n",
    "\n",
    "h_n (num_layers * num_directions, batch, hidden_size): tensor containing the hidden state for t=seq_len"
   ]
  },
  {
   "cell_type": "markdown",
   "metadata": {},
   "source": [
    "# Encoder and Decoder in next 2 cells\n",
    "\n",
    "### the class for these models needs to be defined to load parameters into them"
   ]
  },
  {
   "cell_type": "code",
   "execution_count": 6,
   "metadata": {
    "collapsed": true
   },
   "outputs": [],
   "source": [
    "class EncoderRNN(nn.Module):\n",
    "    \n",
    "    def __init__(self, input_size, hidden_size, num_layers = 3, bidirectional = False):\n",
    "        \n",
    "        super(EncoderRNN, self).__init__()\n",
    "        self.hidden_size = hidden_size\n",
    "        self.num_layers = num_layers\n",
    "        self.bidirectional = bidirectional \n",
    "        self.embedding = nn.Embedding(input_size, hidden_size)\n",
    "        self.gru = nn.GRU(hidden_size, hidden_size, num_layers, bidirectional=bidirectional)\n",
    "        \n",
    "        if bidirectional:\n",
    "            num_directions = 2\n",
    "        else:\n",
    "            num_directions = 1\n",
    "        \n",
    "        # make the initial hidden state learnable as well \n",
    "        hidden0 = torch.zeros(self.num_layers*num_directions, 1, self.hidden_size)\n",
    "        \n",
    "        if use_cuda:\n",
    "            hidden0 = hidden0.cuda()\n",
    "        else:\n",
    "            hidden0 = hidden0\n",
    "\n",
    "        self.hidden0 = nn.Parameter(hidden0, requires_grad=True)\n",
    "\n",
    "    def forward(self, input, hidden):\n",
    "        embedded = self.embedding(input).view(1, 1, -1)\n",
    "        output = embedded\n",
    "        output, hidden = self.gru(output, hidden)\n",
    "        \n",
    "        if self.bidirectional:\n",
    "            output = output[:, :, :self.hidden_size] + output[:, : ,self.hidden_size:] # Sum bidirectional outputs\n",
    "            \n",
    "        return output, hidden\n",
    "\n",
    "    def initHidden(self):\n",
    "        \n",
    "        if use_cuda:\n",
    "            return self.hidden0.cuda()\n",
    "        else:\n",
    "            return self.hidden0"
   ]
  },
  {
   "cell_type": "code",
   "execution_count": 7,
   "metadata": {
    "collapsed": true
   },
   "outputs": [],
   "source": [
    "class AttnDecoderRNN(nn.Module):\n",
    "    def __init__(self, hidden_size, output_size, dropout_p=0.1, max_length=MAX_LENGTH, num_layers = 3):\n",
    "        \n",
    "        super(AttnDecoderRNN, self).__init__()\n",
    "        \n",
    "        self.hidden_size = hidden_size\n",
    "        self.output_size = output_size\n",
    "        self.dropout_p = dropout_p\n",
    "        self.max_length = max_length\n",
    "        self.num_layers = num_layers\n",
    "\n",
    "        self.embedding = nn.Embedding(self.output_size, self.hidden_size)\n",
    "        self.attn = nn.Linear(self.hidden_size * 2, self.max_length)\n",
    "        self.attn_combine = nn.Linear(self.hidden_size * 2, self.hidden_size)\n",
    "        self.dropout = nn.Dropout(self.dropout_p)\n",
    "        self.gru = nn.GRU(self.hidden_size, self.hidden_size, num_layers = num_layers)\n",
    "        self.out = nn.Linear(self.hidden_size, self.output_size)\n",
    "        \n",
    "        hidden0 = torch.zeros(self.num_layers, 1, self.hidden_size)\n",
    "        \n",
    "        if use_cuda:\n",
    "            hidden0 = hidden0.cuda()\n",
    "        else:\n",
    "            hidden0 = hidden0\n",
    "\n",
    "        self.hidden0 = nn.Parameter(hidden0, requires_grad=True)\n",
    "\n",
    "    def forward(self, input, hidden, encoder_outputs):\n",
    "        embedded = self.embedding(input).view(1, 1, -1)\n",
    "        embedded = self.dropout(embedded)\n",
    "\n",
    "        attn_weights = F.softmax(\n",
    "            self.attn(torch.cat((embedded[0], hidden[0]), 1)), dim=1)\n",
    "        attn_applied = torch.bmm(attn_weights.unsqueeze(0),\n",
    "                                 encoder_outputs.unsqueeze(0))\n",
    "\n",
    "        output = torch.cat((embedded[0], attn_applied[0]), 1)\n",
    "        output = self.attn_combine(output).unsqueeze(0)\n",
    "\n",
    "        output = F.relu(output)\n",
    "        output, hidden = self.gru(output, hidden)\n",
    "\n",
    "        output = F.log_softmax(self.out(output[0]), dim=1)\n",
    "        return output, hidden, attn_weights\n",
    "\n",
    "    def initHidden(self):\n",
    "        \n",
    "        if use_cuda:\n",
    "            return self.hidden0.cuda()\n",
    "        else:\n",
    "            return self.hidden0"
   ]
  },
  {
   "cell_type": "markdown",
   "metadata": {
    "collapsed": true
   },
   "source": [
    "# Training\n",
    "\n",
    "## trainIters() takes the encoder instance, decoder instance and trains it using the helper function train()"
   ]
  },
  {
   "cell_type": "code",
   "execution_count": 8,
   "metadata": {
    "collapsed": true
   },
   "outputs": [],
   "source": [
    "\n",
    "def train(input_variable, target_variable, encoder, decoder, encoder_optimizer, decoder_optimizer,\n",
    "          criterion, max_length=MAX_LENGTH, teacher_forcing_ratio = 0.5, bidirectional = False):\n",
    "    \n",
    "    encoder_hidden = encoder.initHidden()\n",
    "\n",
    "    encoder_optimizer.zero_grad()\n",
    "    decoder_optimizer.zero_grad()\n",
    "\n",
    "    input_length = input_variable.size()[0]\n",
    "    target_length = target_variable.size()[0]\n",
    "\n",
    "    encoder_outputs = Variable(torch.zeros(max_length, encoder.hidden_size))\n",
    "    encoder_outputs = encoder_outputs.cuda() if use_cuda else encoder_outputs\n",
    "\n",
    "    loss = 0\n",
    "\n",
    "    for ei in range(input_length):\n",
    "        \n",
    "        encoder_output, encoder_hidden = encoder(input_variable[ei], encoder_hidden)\n",
    "        \n",
    "        encoder_outputs[ei] = encoder_output[0][0]\n",
    "\n",
    "    decoder_input = Variable(torch.LongTensor([[SOS_token]]))\n",
    "    decoder_input = decoder_input.cuda() if use_cuda else decoder_input\n",
    "    \n",
    "    if bidirectional:\n",
    "        # sum the bidirectional hidden states into num_layers long cause the decoder is not bidirectional\n",
    "        encoder_hidden = encoder_hidden[:encoder.num_layers, :, :] + encoder_hidden[encoder.num_layers:, : ,:] \n",
    "        \n",
    "    decoder_hidden = encoder_hidden\n",
    "\n",
    "    use_teacher_forcing = True if random.random() < teacher_forcing_ratio else False\n",
    "\n",
    "    if use_teacher_forcing:\n",
    "        # Teacher forcing: Feed the target as the next input\n",
    "        for di in range(target_length):\n",
    "            \n",
    "            decoder_output, decoder_hidden, decoder_attention = decoder(\n",
    "                decoder_input, decoder_hidden, encoder_outputs)\n",
    "            \n",
    "            loss += criterion(decoder_output, target_variable[di])\n",
    "            decoder_input = target_variable[di]  # Teacher forcing\n",
    "\n",
    "    else:\n",
    "        # Without teacher forcing: use its own predictions as the next input\n",
    "        for di in range(target_length):\n",
    "\n",
    "            decoder_output, decoder_hidden, decoder_attention = decoder(\n",
    "                decoder_input, decoder_hidden, encoder_outputs)\n",
    "            \n",
    "            topv, topi = decoder_output.data.topk(1)\n",
    "            ni = topi[0][0]\n",
    "\n",
    "            decoder_input = Variable(torch.LongTensor([[ni]]))\n",
    "            decoder_input = decoder_input.cuda() if use_cuda else decoder_input\n",
    "\n",
    "            loss += criterion(decoder_output, target_variable[di])\n",
    "            if ni == EOS_token:\n",
    "                break\n",
    "\n",
    "    loss.backward()\n",
    "\n",
    "    encoder_optimizer.step()\n",
    "    decoder_optimizer.step()\n",
    "\n",
    "    return loss.data[0] / target_length"
   ]
  },
  {
   "cell_type": "code",
   "execution_count": 20,
   "metadata": {
    "collapsed": true
   },
   "outputs": [],
   "source": [
    "def trainIters(encoder, decoder, n_iters, print_every=1000, plot_every=100,\n",
    "               learning_rate=0.01, teacher_forcing_ratio = 0.5, bidirectional = False,\n",
    "               name = \"noname\", lowest_loss =100, gamma = 0.95):\n",
    "    \n",
    "    \n",
    "    start = time.time()\n",
    "    plot_losses = []\n",
    "    print_loss_total = 0  # Reset every print_every\n",
    "    plot_loss_total = 0  # Reset every plot_every\n",
    "    \n",
    "    #encoder_optimizer = optim.SGD(encoder.parameters(), lr=learning_rate)\n",
    "    #decoder_optimizer = optim.SGD(decoder.parameters(), lr=learning_rate)\n",
    "    encoder_optimizer = optim.Adam(encoder.parameters(), lr=learning_rate)\n",
    "    decoder_optimizer = optim.Adam(decoder.parameters(), lr=learning_rate)\n",
    "    escheduler = optim.lr_scheduler.StepLR(encoder_optimizer, step_size=print_every, gamma=gamma) \n",
    "    dscheduler = optim.lr_scheduler.StepLR(decoder_optimizer, step_size=print_every, gamma=gamma) \n",
    "    \n",
    "    training_pairs = [variablesFromPair(random.choice(pairs))\n",
    "                      for i in range(n_iters)]\n",
    "    \n",
    "    criterion = nn.NLLLoss()\n",
    "\n",
    "    lowest_loss = lowest_loss\n",
    "    \n",
    "    for iter in range(1, n_iters + 1):\n",
    "        \n",
    "        escheduler.step()\n",
    "        dscheduler.step()\n",
    "        \n",
    "        training_pair = training_pairs[iter - 1]\n",
    "        input_variable = training_pair[0]\n",
    "        target_variable = training_pair[1]\n",
    "\n",
    "        loss = train(input_variable, target_variable, encoder, decoder, \n",
    "                     encoder_optimizer, decoder_optimizer, criterion, \n",
    "                     teacher_forcing_ratio = teacher_forcing_ratio,\n",
    "                     bidirectional =  bidirectional)\n",
    "        \n",
    "        print_loss_total += loss\n",
    "        plot_loss_total += loss\n",
    "\n",
    "        if iter % print_every == 0:\n",
    "            print_loss_avg = print_loss_total / print_every\n",
    "            print_loss_total = 0\n",
    "            print('%s (%d %d%%) %.4f' % (timeSince(start, iter / n_iters),\n",
    "                                         iter, iter / n_iters * 100, print_loss_avg))\n",
    "            \n",
    "            if lowest_loss > print_loss_avg:\n",
    "                lowest_loss = print_loss_avg\n",
    "                print(\"new lowest loss, saving...\")\n",
    "                torch.save(encoder.state_dict(), \"saved_params/encoder\"+name+\".pth\")\n",
    "                torch.save(attn_decoder.state_dict(), \"saved_params/attn_decoder\"+name+\".pth\")\n",
    "\n",
    "        if iter % plot_every == 0:\n",
    "            plot_loss_avg = plot_loss_total / plot_every\n",
    "            plot_losses.append(plot_loss_avg)\n",
    "            plot_loss_total = 0\n",
    "\n",
    "\n",
    "    showPlot(plot_losses)"
   ]
  },
  {
   "cell_type": "markdown",
   "metadata": {
    "collapsed": true
   },
   "source": [
    "# Instantiate The Encoder and Decoder \n",
    "\n",
    "### move the model to GPU "
   ]
  },
  {
   "cell_type": "code",
   "execution_count": 13,
   "metadata": {
    "collapsed": true
   },
   "outputs": [],
   "source": [
    "hidden_size = 128#256\n",
    "num_layers = 2#3\n",
    "bidirectional = False#True\n",
    "encoder = EncoderRNN(input_lang.n_words, hidden_size, num_layers = num_layers, bidirectional = bidirectional)\n",
    "attn_decoder = AttnDecoderRNN(hidden_size, output_lang.n_words, dropout_p=0.1, num_layers = num_layers)\n",
    "\n",
    "if use_cuda:\n",
    "    encoder = encoder.cuda()\n",
    "    attn_decoder = attn_decoder.cuda()"
   ]
  },
  {
   "cell_type": "markdown",
   "metadata": {},
   "source": [
    "## Run this cell if you have saved parameters you want to load into the encoder decoder"
   ]
  },
  {
   "cell_type": "code",
   "execution_count": 33,
   "metadata": {},
   "outputs": [],
   "source": [
    "#encoder.load_state_dict(torch.load(\"saved_params/encoder.pth\"))\n",
    "#attn_decoder.load_state_dict(torch.load(\"saved_params/attn_decoder.pth\"))\n",
    "encoder.load_state_dict(torch.load(\"saved_params/encoder_2L_h128_uni3.pth\"))\n",
    "attn_decoder.load_state_dict(torch.load(\"saved_params/attn_decoder_2L_h128_uni3.pth\"))"
   ]
  },
  {
   "cell_type": "markdown",
   "metadata": {
    "collapsed": true
   },
   "source": [
    "## call to the MAIN TRAINING LOOP and cell for storing parameters"
   ]
  },
  {
   "cell_type": "code",
   "execution_count": null,
   "metadata": {},
   "outputs": [
    {
     "name": "stdout",
     "output_type": "stream",
     "text": [
      "7m 37s (- 68m 34s) (10000 10%) 4.9078\n",
      "15m 2s (- 60m 9s) (20000 20%) 4.8423\n",
      "22m 33s (- 52m 37s) (30000 30%) 4.7705\n"
     ]
    }
   ],
   "source": [
    "trainIters(encoder, attn_decoder, n_iters = 100000, print_every=10000, \n",
    "           learning_rate=0.001, teacher_forcing_ratio = 0.9,\n",
    "           bidirectional = bidirectional, name = \"_2L_h128_uni3\",\n",
    "           lowest_loss = 4.1, gamma = 0.95) # last loss 4.3393, 16 secs per 100 iters, so ~ 22500 iters/hr"
   ]
  },
  {
   "cell_type": "code",
   "execution_count": 40,
   "metadata": {
    "collapsed": true
   },
   "outputs": [],
   "source": [
    "# If you want to save the results of your training\n",
    "torch.save(encoder.state_dict(), \"saved_params/encoder_2L_h128_uni3.pth\")\n",
    "torch.save(attn_decoder.state_dict(), \"saved_params/attn_decoder_2L_h128_uni3.pth\")"
   ]
  },
  {
   "cell_type": "markdown",
   "metadata": {
    "collapsed": true
   },
   "source": [
    "# Inference/Prediction/Chat with me\n",
    "\n",
    "### evaluate() is your main inference function to deploy the encoder-decoder as a chatbot\n",
    "\n",
    "### evaluateRandomly() calls evaluate() to give you a sampling of dialogue"
   ]
  },
  {
   "cell_type": "code",
   "execution_count": 36,
   "metadata": {
    "collapsed": true
   },
   "outputs": [],
   "source": [
    "def evaluate(encoder, decoder, sentence, max_length=MAX_LENGTH,\n",
    "             bidirectional =bidirectional):\n",
    "    \n",
    "    \n",
    "    input_variable = variableFromSentence(input_lang, sentence)\n",
    "    input_length = input_variable.size()[0]\n",
    "    encoder_hidden = encoder.initHidden()\n",
    "\n",
    "    encoder_outputs = Variable(torch.zeros(max_length, encoder.hidden_size))\n",
    "    encoder_outputs = encoder_outputs.cuda() if use_cuda else encoder_outputs\n",
    "\n",
    "    for ei in range(input_length):\n",
    "        encoder_output, encoder_hidden = encoder(input_variable[ei],\n",
    "                                                 encoder_hidden)\n",
    "        encoder_outputs[ei] = encoder_outputs[ei] + encoder_output[0][0]\n",
    "\n",
    "    decoder_input = Variable(torch.LongTensor([[SOS_token]]))  # SOS\n",
    "    decoder_input = decoder_input.cuda() if use_cuda else decoder_input\n",
    "    \n",
    "    if bidirectional:\n",
    "        # sum the bidirectional hidden states into num_layers long cause the decoder is not bidirectional\n",
    "        encoder_hidden = encoder_hidden[:encoder.num_layers, :, :] + encoder_hidden[encoder.num_layers:, : ,:]\n",
    "\n",
    "    decoder_hidden = encoder_hidden\n",
    "\n",
    "    decoded_words = []\n",
    "    decoder_attentions = torch.zeros(max_length, max_length)\n",
    "\n",
    "    for di in range(max_length):\n",
    "        decoder_output, decoder_hidden, decoder_attention = decoder(\n",
    "            decoder_input, decoder_hidden, encoder_outputs)\n",
    "        decoder_attentions[di] = decoder_attention.data\n",
    "        topv, topi = decoder_output.data.topk(1)\n",
    "        ni = topi[0][0]\n",
    "        if ni == EOS_token:\n",
    "            decoded_words.append('<EOS>')\n",
    "            break\n",
    "        else:\n",
    "            decoded_words.append(output_lang.index2word[ni])\n",
    "\n",
    "        decoder_input = Variable(torch.LongTensor([[ni]]))\n",
    "        decoder_input = decoder_input.cuda() if use_cuda else decoder_input\n",
    "\n",
    "    return decoded_words, decoder_attentions[:di + 1]\n",
    "\n",
    "def evaluateRandomly(encoder, decoder, n=10, bidirectional = False):\n",
    "    for i in range(n):\n",
    "        pair = random.choice(pairs)\n",
    "        print('input from data >', pair[0])\n",
    "        print('output from data=', pair[1])\n",
    "        output_words, attentions = evaluate(encoder, decoder, pair[0], bidirectional = bidirectional)\n",
    "        output_sentence = ' '.join(output_words)\n",
    "        print('bot response <', output_sentence)\n",
    "        print('')"
   ]
  },
  {
   "cell_type": "code",
   "execution_count": 37,
   "metadata": {},
   "outputs": [
    {
     "name": "stdout",
     "output_type": "stream",
     "text": [
      "input from data > happy independence day .\n",
      "output from data= yeah . happy fourth of july .\n",
      "bot response < i m not going to . . . <EOS>\n",
      "\n",
      "input from data > collision ? with what ?\n",
      "output from data= the page s missing . then their sos was real .\n",
      "bot response < i m not going to . . <EOS>\n",
      "\n",
      "input from data > who is this ?\n",
      "output from data= hello my name is barry egan and i called your service \n",
      "bot response < i don t know . <EOS>\n",
      "\n",
      "input from data > oh yeah i love those . yeah . . . those are funny . . .\n",
      "output from data= well it was really nice meeting you and uh . . . i d better get a cab .\n",
      "bot response < i don t know . <EOS>\n",
      "\n",
      "input from data > cigarettes and beer rule ! huh huh .\n",
      "output from data= yeah ! we re with the bureau of cigarettes and chicks ! we re gonna score !\n",
      "bot response < i m not going to . . <EOS>\n",
      "\n",
      "input from data > is that bad ?\n",
      "output from data= not at all . those are our honeymoon suites .\n",
      "bot response < i don t know . <EOS>\n",
      "\n",
      "input from data > let s hope you make the most of it my boy .\n",
      "output from data= shall we go to my office ?\n",
      "bot response < i m not going to . . <EOS>\n",
      "\n",
      "input from data > what s your twenty ?\n",
      "output from data= quarter mile away . we see the lights . . .\n",
      "bot response < i m not going to . . . <EOS>\n",
      "\n",
      "input from data > i m interested in long term expectations .\n",
      "output from data= it s engineered to last about fifteen years .\n",
      "bot response < i m not going to . . . <EOS>\n",
      "\n",
      "input from data > i knew you d make it ! where s your girl ? didn t she come ?\n",
      "output from data= naw . that s over with .\n",
      "bot response < i don t know . <EOS>\n",
      "\n"
     ]
    }
   ],
   "source": [
    "evaluateRandomly(encoder, attn_decoder,  n=10, bidirectional = bidirectional)"
   ]
  },
  {
   "cell_type": "code",
   "execution_count": 38,
   "metadata": {},
   "outputs": [
    {
     "name": "stdout",
     "output_type": "stream",
     "text": [
      "input = what does this mean where are we and where are we going ?\n",
      "output = i m going to be . <EOS>\n"
     ]
    },
    {
     "data": {
      "image/png": "[encoded data removed]",
      "text/plain": [
       "<matplotlib.figure.Figure at 0x7f44a54269b0>"
      ]
     },
     "metadata": {},
     "output_type": "display_data"
    },
    {
     "name": "stdout",
     "output_type": "stream",
     "text": [
      "input = why is this happening ?\n",
      "output = i don t know . <EOS>\n"
     ]
    },
    {
     "data": {
      "image/png": "[encoded data removed]",
      "text/plain": [
       "<matplotlib.figure.Figure at 0x7f44a694fe48>"
      ]
     },
     "metadata": {},
     "output_type": "display_data"
    },
    {
     "name": "stdout",
     "output_type": "stream",
     "text": [
      "input = well me something stupid\n",
      "output = i m not going to . . <EOS>\n"
     ]
    },
    {
     "data": {
      "image/png": "[encoded data removed]",
      "text/plain": [
       "<matplotlib.figure.Figure at 0x7f44a535f668>"
      ]
     },
     "metadata": {},
     "output_type": "display_data"
    },
    {
     "name": "stdout",
     "output_type": "stream",
     "text": [
      "input = you can make it if you try\n",
      "output = i m not going to . . <EOS>\n"
     ]
    },
    {
     "data": {
      "image/png": "[encoded data removed]",
      "text/plain": [
       "<matplotlib.figure.Figure at 0x7f44af4a66a0>"
      ]
     },
     "metadata": {},
     "output_type": "display_data"
    }
   ],
   "source": [
    "bidirectional = False #True\n",
    "\n",
    "def showAttention(input_sentence, output_words, attentions, bidirectional = False):\n",
    "    # Set up figure with colorbar\n",
    "    fig = plt.figure()\n",
    "    ax = fig.add_subplot(111)\n",
    "    cax = ax.matshow(attentions.numpy(), cmap='bone')\n",
    "    fig.colorbar(cax)\n",
    "\n",
    "    # Set up axes\n",
    "    ax.set_xticklabels([''] + input_sentence.split(' ') +\n",
    "                       ['<EOS>'], rotation=90)\n",
    "    ax.set_yticklabels([''] + output_words)\n",
    "\n",
    "    # Show label at every tick\n",
    "    ax.xaxis.set_major_locator(ticker.MultipleLocator(1))\n",
    "    ax.yaxis.set_major_locator(ticker.MultipleLocator(1))\n",
    "\n",
    "    plt.show()\n",
    "\n",
    "\n",
    "def evaluateAndShowAttention(input_sentence,encoder, attn_decoder, bidirectional = False):\n",
    "    \n",
    "    output_words, attentions = evaluate(encoder, attn_decoder, input_sentence, bidirectional = bidirectional)\n",
    "    \n",
    "    print('input =', input_sentence)\n",
    "    print('output =', ' '.join(output_words))\n",
    "    showAttention(input_sentence, output_words, attentions)\n",
    "\n",
    "\n",
    "evaluateAndShowAttention(\"what does this mean where are we and where are we going ?\",\n",
    "                         encoder, attn_decoder, bidirectional = bidirectional  )\n",
    "\n",
    "evaluateAndShowAttention(\"why is this happening ?\",encoder, attn_decoder, bidirectional = bidirectional)\n",
    "\n",
    "evaluateAndShowAttention(\"tell me something stupid\",encoder, attn_decoder, bidirectional = bidirectional)\n",
    "\n",
    "evaluateAndShowAttention(\"you can make it if you try\",encoder, attn_decoder, bidirectional = bidirectional)"
   ]
  },
  {
   "cell_type": "markdown",
   "metadata": {
    "collapsed": true
   },
   "source": [
    "# Reinforcement Learning"
   ]
  },
  {
   "cell_type": "code",
   "execution_count": null,
   "metadata": {
    "collapsed": true
   },
   "outputs": [],
   "source": [
    "#### TO DO: ####\n",
    "\n",
    "##############"
   ]
  }
 ],
 "metadata": {
  "kernelspec": {
   "display_name": "Python 3",
   "language": "python",
   "name": "python3"
  },
  "language_info": {
   "codemirror_mode": {
    "name": "ipython",
    "version": 3
   },
   "file_extension": ".py",
   "mimetype": "text/x-python",
   "name": "python",
   "nbconvert_exporter": "python",
   "pygments_lexer": "ipython3",
   "version": "3.5.2"
  }
 },
 "nbformat": 4,
 "nbformat_minor": 2
}
