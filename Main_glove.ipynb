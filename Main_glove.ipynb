{
 "cells": [
  {
   "cell_type": "code",
   "execution_count": 1,
   "metadata": {},
   "outputs": [
    {
     "name": "stdout",
     "output_type": "stream",
     "text": [
      " I have a GPU?  False\n"
     ]
    }
   ],
   "source": [
    "from __future__ import unicode_literals, print_function, division\n",
    "from io import open\n",
    "import unicodedata\n",
    "import string\n",
    "import re\n",
    "import random\n",
    "import pickle\n",
    "import numpy as np\n",
    "%matplotlib inline\n",
    "\n",
    "import torch\n",
    "import torch.nn as nn\n",
    "from torch.autograd import Variable\n",
    "from torch import optim\n",
    "import torch.nn.functional as F\n",
    "\n",
    "# GLOVE Vectors\n",
    "import torchtext.vocab as vocab\n",
    "\n",
    "use_cuda = torch.cuda.is_available()\n",
    "print(\" I have a GPU? \", use_cuda)"
   ]
  },
  {
   "cell_type": "markdown",
   "metadata": {},
   "source": [
    "## Installing torchtext\n",
    "\n",
    "The torchtext package is not currently on the PIP or Conda package managers, but it's easy to install manually:\n",
    "may require sudo. \n",
    "\n",
    "```\n",
    "git clone https://github.com/pytorch/text pytorch-text\n",
    "cd pytorch-text\n",
    "python setup.py install\n",
    "```"
   ]
  },
  {
   "cell_type": "code",
   "execution_count": 24,
   "metadata": {},
   "outputs": [
    {
     "name": "stdout",
     "output_type": "stream",
     "text": [
      "Loaded 400000 words\n"
     ]
    }
   ],
   "source": [
    "glove = vocab.GloVe(name='6B', dim=50)\n",
    "\n",
    "print('Loaded {} words'.format(len(glove.itos)))"
   ]
  },
  {
   "cell_type": "markdown",
   "metadata": {},
   "source": [
    "The returned `GloVe` object includes attributes:\n",
    "- `stoi` _string-to-index_ returns a dictionary of words to indexes\n",
    "- `itos` _index-to-string_ returns an array of words by index\n",
    "- `vectors` returns the actual vectors. To get a word vector get the index to get the vector:"
   ]
  },
  {
   "cell_type": "code",
   "execution_count": 25,
   "metadata": {},
   "outputs": [
    {
     "data": {
      "text/plain": [
       "\n",
       " 0.4180\n",
       " 0.2497\n",
       "-0.4124\n",
       " 0.1217\n",
       " 0.3453\n",
       "[torch.FloatTensor of size 5]"
      ]
     },
     "execution_count": 25,
     "metadata": {},
     "output_type": "execute_result"
    }
   ],
   "source": [
    "glove.vectors[0][:5]"
   ]
  },
  {
   "cell_type": "markdown",
   "metadata": {
    "collapsed": true
   },
   "source": [
    "## Can skip the preprocessign step and just load the pickle file"
   ]
  },
  {
   "cell_type": "code",
   "execution_count": 16,
   "metadata": {},
   "outputs": [],
   "source": [
    "class Lang:\n",
    "    \n",
    "    def __init__(self, name):\n",
    "        \n",
    "        '''\n",
    "        Store the string token to index token\n",
    "        mapping in the word2index and index2word\n",
    "        dictionaries. \n",
    "        '''\n",
    "        \n",
    "        self.name = name\n",
    "        self.trimmed = False # gets changed to True first time Lang.trim(min_count) is called\n",
    "        self.word2index = {}\n",
    "        self.word2count = {}\n",
    "        self.index2word = {0: \"<PAD>\", 1: \"<SOS>\", 2: \"<EOS>\", 3: \"<UNK>\"}\n",
    "        self.n_words = len(self.index2word) # Count default tokens\n",
    "        self.num_nonwordtokens = len(self.index2word)\n",
    "        self.PAD_token = 0\n",
    "        self.SOS_token = 1\n",
    "        self.EOS_token = 2\n",
    "        self.UNK_token = 3\n",
    "\n",
    "    def index_sentence(self, sentence):\n",
    "        '''\n",
    "        Absorbs a sentence string into the token dictionary\n",
    "        one word at a time using the index_word function\n",
    "        increments the word count dictionary as well\n",
    "        '''\n",
    "        for word in sentence.split(' '):\n",
    "            self.index_word(word)\n",
    "\n",
    "    def index_word(self, word):\n",
    "        if word not in self.word2index:\n",
    "            self.word2index[word] = self.n_words\n",
    "            self.word2count[word] = 1\n",
    "            self.index2word[self.n_words] = word\n",
    "            self.n_words += 1\n",
    "        else:\n",
    "            self.word2count[word] += 1\n",
    "\n",
    "    \n",
    "    def trim(self, min_count):\n",
    "        '''\n",
    "        Removes words from our 3 dictionaries that\n",
    "        are below a certain count threshold (min_count)\n",
    "        '''\n",
    "        if self.trimmed: return\n",
    "        self.trimmed = True\n",
    "        \n",
    "        keep_words = []\n",
    "        \n",
    "        for k, v in self.word2count.items():\n",
    "            if v >= min_count:\n",
    "                keep_words.append(k)\n",
    "\n",
    "        print('keep_words %s / %s = %.4f' % (\n",
    "            len(keep_words), len(self.word2index), len(keep_words) / len(self.word2index)\n",
    "        ))\n",
    "\n",
    "        # Reinitialize dictionaries\n",
    "        self.word2index = {}\n",
    "        self.word2count = {}\n",
    "        self.index2word = {0: \"<PAD>\", 1: \"<SOS>\", 2: \"<EOS>\", 3: \"<UNK>\"}\n",
    "        self.n_words = len(self.index2word) # Count default tokens\n",
    "        self.num_nonwordtokens = len(self.index2word)\n",
    "        self.PAD_token = 0\n",
    "        self.SOS_token = 1\n",
    "        self.EOS_token = 2\n",
    "        self.UNK_token = 3\n",
    "\n",
    "        for word in keep_words:\n",
    "            self.index_word(word)\n",
    "            \n",
    "    def unicode_to_ascii(self, s):\n",
    "        return ''.join(\n",
    "            c for c in unicodedata.normalize('NFD', s)\n",
    "            if unicodedata.category(c) != 'Mn')\n",
    "            \n",
    "    def normalize_string(self, s):\n",
    "        s = self.unicode_to_ascii(s.lower().strip())\n",
    "        s = re.sub(r\"([.!?])\", r\" \\1\", s)\n",
    "        s = re.sub(r\"[^a-zA-Z.!?]+\", r\" \", s)\n",
    "        s = re.sub(\"newlinechar\", \"\", s)\n",
    "        s = ' '.join(s.split())\n",
    "        return s\n",
    "\n",
    "    def filterPair(self, p, max_sent_len, min_sent_len):\n",
    "        \n",
    "        '''\n",
    "        Your Preferences here\n",
    "        '''\n",
    "\n",
    "        return len(p[0].split(' ')) < max_sent_len and \\\n",
    "               len(p[1].split(' ')) < max_sent_len and \\\n",
    "               len(p[1].split(' ')) > min_sent_len and \\\n",
    "               \"https://\" not in p[1] \n",
    "\n",
    "    \n",
    "    def make_pairs(self, path_to_tab_sep_dialogue, \n",
    "                   max_sent_len = 20, min_sent_len = 4):\n",
    "\n",
    "        print(\"making final_pairs list ...\")\n",
    "        lines = open(path_to_tab_sep_dialogue).read().strip().split('\\n')\n",
    "        \n",
    "        final_pairs = []\n",
    "        i = 0\n",
    "        for l in lines:\n",
    "            \n",
    "            pair = [self.normalize_string(sentence) for sentence in l.split('\\t')]\n",
    "            \n",
    "            if self.filterPair(pair,max_sent_len, min_sent_len):\n",
    "                \n",
    "                filtered_pair = []\n",
    "                \n",
    "                for sentence in pair:\n",
    "\n",
    "                    self.index_sentence(sentence)\n",
    "                    filtered_pair.append(sentence)\n",
    "                  \n",
    "                final_pairs.append(filtered_pair)\n",
    "        print(\"number of pairs\", len(final_pairs))\n",
    "        return final_pairs\n",
    "    \n",
    "    def tokens2glove(self, min_word_count,glove, mbed_dim = 50):\n",
    "    \n",
    "        print(\"trimming...\")    \n",
    "        self.trim(min_word_count)\n",
    "        \n",
    "        if glove is None:\n",
    "            glove = vocab.GloVe(name='6B', dim=embed_dim)\n",
    "            print('Loaded {} words'.format(len(glove.itos)))\n",
    "        else:\n",
    "            embed_dim = glove.vectors.size(1)\n",
    "                    \n",
    "        print(\"building embedding from glove...\")\n",
    "        embedding = np.zeros((len(self.index2word), embed_dim)).astype(np.float32)\n",
    "        for i in range(self.num_nonwordtokens):\n",
    "            embedding[i,:] = np.random.uniform(-1,1,embed_dim).astype(np.float32)\n",
    "        for i in range(self.num_nonwordtokens,len(self.index2word)):\n",
    "            if self.index2word[i] in glove.stoi:\n",
    "                embedding[i,:] = glove.vectors[glove.stoi[self.index2word[i]]]\n",
    "            else:\n",
    "                embedding[i,:] = np.random.uniform(-1,1,embed_dim).astype(np.float32)\n",
    "        \n",
    "        return self.index2word, self.word2index, embedding, self.n_words #torch.from_numpy(embeddings).float() \n",
    "    "
   ]
  },
  {
   "cell_type": "code",
   "execution_count": 42,
   "metadata": {},
   "outputs": [
    {
     "name": "stdout",
     "output_type": "stream",
     "text": [
      "final_pairs list ...\n",
      "trimming...\n",
      "keep_words 19861 / 65623 = 0.3027\n",
      "building embedding from glove...\n"
     ]
    }
   ],
   "source": [
    "lang = Lang(\"chat\")\n",
    "final_pairs = lang.make_pairs(\"../data/input-output.txt\", max_sent_len = 30, min_sent_len = 1)\n",
    "index2word, word2index, embedding, vocab_size = lang.tokens2glove(10,glove)"
   ]
  },
  {
   "cell_type": "code",
   "execution_count": null,
   "metadata": {},
   "outputs": [],
   "source": [
    "index2word, word2index, embedding, final_pairs, vocab_size  = \\\n",
    "pickle.load( open( \"saved_pickle/mx_sent_30_min_sent_1_min_wrd_10_dim50.p\", \"rb\" ) )\n"
   ]
  },
  {
   "cell_type": "code",
   "execution_count": 43,
   "metadata": {
    "collapsed": true
   },
   "outputs": [],
   "source": [
    "mx_sent_30_min_sent_1_min_wrd_10_dim50 = (index2word, word2index, embedding, final_pairs, vocab_size)"
   ]
  },
  {
   "cell_type": "code",
   "execution_count": 44,
   "metadata": {
    "collapsed": true
   },
   "outputs": [],
   "source": [
    "pickle.dump(mx_sent_30_min_sent_1_min_wrd_10_dim50, open( \"saved_pickle/mx_sent_30_min_sent_1_min_wrd_10_dim50.p\", \"wb\" ) )"
   ]
  },
  {
   "cell_type": "code",
   "execution_count": 17,
   "metadata": {},
   "outputs": [],
   "source": [
    "lang = Lang(\"chat\")\n",
    "lang.index2word = index2word\n",
    "lang.word2index = word2index"
   ]
  },
  {
   "cell_type": "markdown",
   "metadata": {},
   "source": [
    "## Makesure the GloVe vectors work the way they are supposed to"
   ]
  },
  {
   "cell_type": "code",
   "execution_count": 3,
   "metadata": {},
   "outputs": [
    {
     "data": {
      "text/plain": [
       "12.615148"
      ]
     },
     "execution_count": 3,
     "metadata": {},
     "output_type": "execute_result"
    }
   ],
   "source": [
    "np.dot(embedding[word2index[\"admire\"]],embedding[word2index[\"respect\"]])"
   ]
  },
  {
   "cell_type": "code",
   "execution_count": 4,
   "metadata": {},
   "outputs": [
    {
     "data": {
      "text/plain": [
       "-0.6424827"
      ]
     },
     "execution_count": 4,
     "metadata": {},
     "output_type": "execute_result"
    }
   ],
   "source": [
    "np.dot(embedding[word2index[\"admire\"]],embedding[word2index[\"spoon\"]])"
   ]
  },
  {
   "cell_type": "code",
   "execution_count": 5,
   "metadata": {},
   "outputs": [
    {
     "data": {
      "text/plain": [
       "16.780468"
      ]
     },
     "execution_count": 5,
     "metadata": {},
     "output_type": "execute_result"
    }
   ],
   "source": [
    "np.dot(embedding[word2index[\"fork\"]],embedding[word2index[\"spoon\"]])"
   ]
  },
  {
   "cell_type": "code",
   "execution_count": 6,
   "metadata": {},
   "outputs": [],
   "source": [
    "##########  Converts [\" input string \", \" output string \"] (pair) , appends <EOS> index and returns indices ######\n",
    "\n",
    "def indexesFromSentence(lang, sentence):\n",
    "    '''\n",
    "    account for strings not in the vocabulary by using the unknown token\n",
    "    '''\n",
    "    sentence_as_indices = []\n",
    "    for word in sentence.split(' '):\n",
    "        if word in lang.word2index:\n",
    "            sentence_as_indices.append(lang.word2index[word])\n",
    "        else:\n",
    "            sentence_as_indices.append(lang.UNK_token)\n",
    "    \n",
    "    return sentence_as_indices\n",
    "\n",
    "\n",
    "def variableFromSentence(lang, sentence):\n",
    "    indexes = indexesFromSentence(lang, sentence)\n",
    "    indexes.append(lang.EOS_token)\n",
    "    result = Variable(torch.LongTensor(indexes).view(-1, 1))\n",
    "    if use_cuda:\n",
    "        return result.cuda()\n",
    "    else:\n",
    "        return result\n",
    "\n",
    "\n",
    "def variablesFromPair(pair,lang):\n",
    "    input_variable = variableFromSentence(lang, pair[0])\n",
    "    target_variable = variableFromSentence(lang, pair[1])\n",
    "    return (input_variable, target_variable)\n",
    "\n",
    "######## the pair indices are returned as 2 LongTensor Variables in torch #############\n",
    "\n",
    "\n",
    "######## Tells you how long youve been training and how much longer you have left ####\n",
    "\n",
    "import time\n",
    "import math\n",
    "\n",
    "\n",
    "def asMinutes(s):\n",
    "    m = math.floor(s / 60)\n",
    "    s -= m * 60\n",
    "    return '%dm %ds' % (m, s)\n",
    "\n",
    "\n",
    "def timeSince(since, percent):\n",
    "    now = time.time()\n",
    "    s = now - since\n",
    "    es = s / (percent)\n",
    "    rs = es - s\n",
    "    return '%s (- %s)' % (asMinutes(s), asMinutes(rs))\n",
    "\n",
    "######################################################################3\n",
    "\n",
    "############### plot_losses #######################################\n",
    "\n",
    "import matplotlib.pyplot as plt\n",
    "import matplotlib.ticker as ticker\n",
    "import numpy as np\n",
    "\n",
    "\n",
    "def showPlot(points):\n",
    "    plt.figure()\n",
    "    fig, ax = plt.subplots()\n",
    "    # this locator puts ticks at regular intervals\n",
    "    loc = ticker.MultipleLocator(base=0.2)\n",
    "    ax.yaxis.set_major_locator(loc)\n",
    "    plt.plot(points)\n",
    "    \n",
    "####################################################################"
   ]
  },
  {
   "cell_type": "code",
   "execution_count": 7,
   "metadata": {},
   "outputs": [],
   "source": [
    "class EncoderRNN(nn.Module):\n",
    "    \n",
    "    def __init__(self, hidden_size, embedding,\n",
    "                 num_layers = 3, bidirectional = False, train_embedding = True):\n",
    "        \n",
    "        super(EncoderRNN, self).__init__()\n",
    "        self.hidden_size = hidden_size\n",
    "        self.num_layers = num_layers\n",
    "        self.bidirectional = bidirectional\n",
    "        embedding = torch.from_numpy(embedding).float()\n",
    "        self.embedding = nn.Embedding(embedding.shape[0], embedding.shape[1])\n",
    "        self.embedding.weight = nn.Parameter(embedding, requires_grad=train_embedding)\n",
    "        self.gru = nn.GRU(embedding.shape[1], hidden_size, num_layers, bidirectional=bidirectional)\n",
    "        \n",
    "        if bidirectional:\n",
    "            num_directions = 2\n",
    "        else:\n",
    "            num_directions = 1\n",
    "        \n",
    "        # make the initial hidden state learnable as well \n",
    "        hidden0 = torch.zeros(self.num_layers*num_directions, 1, self.hidden_size)\n",
    "        \n",
    "        if use_cuda:\n",
    "            hidden0 = hidden0.cuda()\n",
    "        else:\n",
    "            hidden0 = hidden0\n",
    "\n",
    "        self.hidden0 = nn.Parameter(hidden0, requires_grad=True)\n",
    "\n",
    "    def forward(self, input, hidden):\n",
    "        embedded = self.embedding(input).view(1, 1, -1)\n",
    "        output = embedded\n",
    "        output, hidden = self.gru(output, hidden)\n",
    "        \n",
    "        if self.bidirectional:\n",
    "            output = output[:, :, :self.hidden_size] + output[:, : ,self.hidden_size:] # Sum bidirectional outputs\n",
    "            \n",
    "        return output, hidden\n",
    "\n",
    "    def initHidden(self):\n",
    "        \n",
    "        if use_cuda:\n",
    "            return self.hidden0.cuda()\n",
    "        else:\n",
    "            return self.hidden0"
   ]
  },
  {
   "cell_type": "code",
   "execution_count": 8,
   "metadata": {},
   "outputs": [],
   "source": [
    "class AttnDecoderRNN(nn.Module):\n",
    "    \n",
    "    def __init__(self, hidden_size, embedding, dropout_p=0.1, max_length=30, \n",
    "                 num_layers = 3, train_embedding = True):\n",
    "        \n",
    "        super(AttnDecoderRNN, self).__init__()\n",
    "        \n",
    "        self.hidden_size = hidden_size\n",
    "        self.dropout_p = dropout_p\n",
    "        self.max_length = max_length\n",
    "        self.num_layers = num_layers\n",
    "        embedding = torch.from_numpy(embedding).float()\n",
    "        self.embedding = nn.Embedding(embedding.shape[0], embedding.shape[1])\n",
    "        self.embedding.weight = nn.Parameter(embedding, requires_grad=train_embedding)\n",
    "        \n",
    "        self.attn = nn.Linear(self.hidden_size + embedding.shape[1], self.max_length)\n",
    "        \n",
    "        self.attn_combine = nn.Linear(self.hidden_size + embedding.shape[1], self.hidden_size)\n",
    "        \n",
    "        self.dropout = nn.Dropout(self.dropout_p)\n",
    "        self.gru = nn.GRU(self.hidden_size, self.hidden_size, num_layers = num_layers)\n",
    "        self.out = nn.Linear(self.hidden_size, embedding.shape[0])\n",
    "        \n",
    "        hidden0 = torch.zeros(self.num_layers, 1, self.hidden_size)\n",
    "        \n",
    "        if use_cuda:\n",
    "            hidden0 = hidden0.cuda()\n",
    "        else:\n",
    "            hidden0 = hidden0\n",
    "\n",
    "        self.hidden0 = nn.Parameter(hidden0, requires_grad=True)\n",
    "\n",
    "    def forward(self, input, hidden, encoder_outputs):\n",
    "        \n",
    "        embedded = self.embedding(input).view(1, 1, -1)\n",
    "        embedded = self.dropout(embedded)\n",
    "\n",
    "        cat = torch.cat((embedded[0], hidden[0]), 1)\n",
    "        attn = self.attn(cat)\n",
    "        \n",
    "        attn_weights = F.softmax(attn, dim=1)\n",
    "        \n",
    "        attn_applied = torch.bmm(attn_weights.unsqueeze(0),\n",
    "                                 encoder_outputs.unsqueeze(0))\n",
    "\n",
    "        output = torch.cat((embedded[0], attn_applied[0]), 1)\n",
    "        output = self.attn_combine(output).unsqueeze(0)\n",
    "\n",
    "        output = F.relu(output)\n",
    "        output, hidden = self.gru(output, hidden)\n",
    "\n",
    "        output = F.log_softmax(self.out(output[0]), dim=1)\n",
    "        return output, hidden, attn_weights\n",
    "\n",
    "    def initHidden(self):\n",
    "        \n",
    "        if use_cuda:\n",
    "            return self.hidden0.cuda()\n",
    "        else:\n",
    "            return self.hidden0"
   ]
  },
  {
   "cell_type": "code",
   "execution_count": 9,
   "metadata": {},
   "outputs": [],
   "source": [
    "\n",
    "def train(lang, input_variable, target_variable, encoder, decoder, encoder_optimizer, decoder_optimizer,\n",
    "          criterion, max_length=30, teacher_forcing_ratio = 0.5, bidirectional = False):\n",
    "    \n",
    "    encoder_hidden = encoder.initHidden()\n",
    "\n",
    "    encoder_optimizer.zero_grad()\n",
    "    decoder_optimizer.zero_grad()\n",
    "\n",
    "    input_length = input_variable.size()[0]\n",
    "\n",
    "    target_length = target_variable.size()[0]\n",
    "\n",
    "    encoder_outputs = Variable(torch.zeros(max_length, encoder.hidden_size))\n",
    "    encoder_outputs = encoder_outputs.cuda() if use_cuda else encoder_outputs\n",
    "\n",
    "    loss = 0\n",
    "\n",
    "    for ei in range(input_length):\n",
    "        encoder_output, encoder_hidden = encoder(input_variable[ei], encoder_hidden)\n",
    "        \n",
    "        encoder_outputs[ei] = encoder_output[0][0]\n",
    "\n",
    "    decoder_input = Variable(torch.LongTensor([[lang.SOS_token]]))\n",
    "    decoder_input = decoder_input.cuda() if use_cuda else decoder_input\n",
    "    \n",
    "    if bidirectional:\n",
    "        # sum the bidirectional hidden states into num_layers long cause the decoder is not bidirectional\n",
    "        encoder_hidden = encoder_hidden[:encoder.num_layers, :, :] + encoder_hidden[encoder.num_layers:, : ,:] \n",
    "        \n",
    "    decoder_hidden = encoder_hidden\n",
    "\n",
    "    use_teacher_forcing = True if random.random() < teacher_forcing_ratio else False\n",
    "\n",
    "    if use_teacher_forcing:\n",
    "        # Teacher forcing: Feed the target as the next input\n",
    "        for di in range(target_length):\n",
    "            \n",
    "            decoder_output, decoder_hidden, decoder_attention = decoder(\n",
    "                decoder_input, decoder_hidden, encoder_outputs)\n",
    "            \n",
    "            loss += criterion(decoder_output, target_variable[di])\n",
    "            decoder_input = target_variable[di]  # Teacher forcing\n",
    "\n",
    "    else:\n",
    "        # Without teacher forcing: use its own predictions as the next input\n",
    "        for di in range(target_length):\n",
    "\n",
    "            decoder_output, decoder_hidden, decoder_attention = decoder(\n",
    "                decoder_input, decoder_hidden, encoder_outputs)\n",
    "            \n",
    "            topv, topi = decoder_output.data.topk(1)\n",
    "            ni = topi[0][0]\n",
    "\n",
    "            decoder_input = Variable(torch.LongTensor([[ni]]))\n",
    "            decoder_input = decoder_input.cuda() if use_cuda else decoder_input\n",
    "\n",
    "            loss += criterion(decoder_output, target_variable[di])\n",
    "            if ni == lang.EOS_token:\n",
    "                break\n",
    "\n",
    "    loss.backward()\n",
    "\n",
    "    encoder_optimizer.step()\n",
    "    decoder_optimizer.step()\n",
    "\n",
    "    return loss.data[0] / target_length"
   ]
  },
  {
   "cell_type": "code",
   "execution_count": 10,
   "metadata": {},
   "outputs": [],
   "source": [
    "def trainIters(encoder, decoder, pairs, lang, n_iters =1000, print_every=100, plot_every=100,\n",
    "               learning_rate=0.01, teacher_forcing_ratio = 0.5, bidirectional = False,\n",
    "               name = \"noname\", lowest_loss =100, gamma = 0.95):\n",
    "    \n",
    "    \n",
    "    start = time.time()\n",
    "    plot_losses = []\n",
    "    print_loss_total = 0  # Reset every print_every\n",
    "    plot_loss_total = 0  # Reset every plot_every\n",
    "    \n",
    "    encoder_optimizer = optim.Adam(encoder.parameters(), lr=learning_rate)\n",
    "    decoder_optimizer = optim.Adam(decoder.parameters(), lr=learning_rate)\n",
    "    escheduler = optim.lr_scheduler.StepLR(encoder_optimizer, step_size=print_every, gamma=gamma) \n",
    "    dscheduler = optim.lr_scheduler.StepLR(decoder_optimizer, step_size=print_every, gamma=gamma) \n",
    "    \n",
    "    training_pairs = [variablesFromPair(random.choice(pairs),lang)\n",
    "                      for i in range(n_iters)]\n",
    "    \n",
    "    criterion = nn.NLLLoss()\n",
    "\n",
    "    lowest_loss = lowest_loss\n",
    "    \n",
    "    for iter in range(1, n_iters + 1):\n",
    "        \n",
    "        escheduler.step()\n",
    "        dscheduler.step()\n",
    "        \n",
    "        training_pair = training_pairs[iter - 1]\n",
    "        input_variable = training_pair[0]\n",
    "        target_variable = training_pair[1]\n",
    "\n",
    "        loss = train(lang, input_variable, target_variable, encoder, decoder, \n",
    "                     encoder_optimizer, decoder_optimizer, criterion, \n",
    "                     teacher_forcing_ratio = teacher_forcing_ratio,\n",
    "                     bidirectional =  bidirectional)\n",
    "        \n",
    "        print_loss_total += loss\n",
    "        plot_loss_total += loss\n",
    "\n",
    "        if iter % print_every == 0:\n",
    "            print_loss_avg = print_loss_total / print_every\n",
    "            print_loss_total = 0\n",
    "            print('%s (%d %d%%) %.4f' % (timeSince(start, iter / n_iters),\n",
    "                                         iter, iter / n_iters * 100, print_loss_avg))\n",
    "            \n",
    "            if lowest_loss > print_loss_avg:\n",
    "                lowest_loss = print_loss_avg\n",
    "                print(\"new lowest loss, saving...\")\n",
    "                torch.save(encoder.state_dict(), \"saved_params/encoder\"+name+\".pth\")\n",
    "                torch.save(attn_decoder.state_dict(), \"saved_params/attn_decoder\"+name+\".pth\")\n",
    "\n",
    "        if iter % plot_every == 0:\n",
    "            plot_loss_avg = plot_loss_total / plot_every\n",
    "            plot_losses.append(plot_loss_avg)\n",
    "            plot_loss_total = 0\n",
    "\n",
    "\n",
    "    showPlot(plot_losses)"
   ]
  },
  {
   "cell_type": "code",
   "execution_count": 23,
   "metadata": {},
   "outputs": [],
   "source": [
    "hidden_size = 64\n",
    "num_layers = 2\n",
    "bidirectional = False \n",
    "\n",
    "encoder = EncoderRNN(hidden_size, embedding, num_layers = num_layers, bidirectional = bidirectional,\n",
    "                     train_embedding = True)\n",
    "\n",
    "\n",
    "attn_decoder = AttnDecoderRNN(hidden_size,  embedding, dropout_p=0.1, num_layers = num_layers,\n",
    "                              train_embedding = True)\n",
    "\n",
    "if use_cuda:\n",
    "    encoder = encoder.cuda()\n",
    "    attn_decoder = attn_decoder.cuda()\n",
    "    \n",
    "#name = \"_256h_4L_bi_glove\"\n",
    "version = 0\n",
    "name = \"hidden\" + str(hidden_size) + \"L\" + str(num_layers) + \"bidir\"+str(bidirectional) + \"v\"+ str(version)"
   ]
  },
  {
   "cell_type": "code",
   "execution_count": 22,
   "metadata": {},
   "outputs": [],
   "source": [
    "encoder.load_state_dict(torch.load(\"saved_params/encoder\"+name+\"cpu.pth\"))\n",
    "attn_decoder.load_state_dict(torch.load(\"saved_params/attn_decoder\"+name+\"cpu.pth\"))"
   ]
  },
  {
   "cell_type": "code",
   "execution_count": null,
   "metadata": {},
   "outputs": [
    {
     "name": "stdout",
     "output_type": "stream",
     "text": [
      "0m 20s (- 33m 10s) (100 1%) 7.1151\n",
      "0m 39s (- 32m 5s) (200 2%) 6.3990\n",
      "0m 59s (- 31m 52s) (300 3%) 6.2088\n",
      "1m 19s (- 31m 54s) (400 4%) 6.2420\n",
      "1m 40s (- 31m 44s) (500 5%) 5.9711\n",
      "new lowest loss, saving...\n",
      "2m 2s (- 32m 0s) (600 6%) 6.1572\n",
      "2m 26s (- 32m 23s) (700 7%) 6.0051\n",
      "2m 47s (- 32m 1s) (800 8%) 5.7874\n",
      "new lowest loss, saving...\n",
      "3m 7s (- 31m 36s) (900 9%) 5.9021\n",
      "3m 29s (- 31m 21s) (1000 10%) 5.5684\n",
      "new lowest loss, saving...\n",
      "3m 50s (- 31m 4s) (1100 11%) 5.7460\n",
      "4m 12s (- 30m 48s) (1200 12%) 5.7904\n",
      "4m 32s (- 30m 20s) (1300 13%) 5.5636\n",
      "new lowest loss, saving...\n",
      "4m 52s (- 29m 58s) (1400 14%) 5.5203\n",
      "new lowest loss, saving...\n",
      "5m 13s (- 29m 37s) (1500 15%) 5.4942\n",
      "new lowest loss, saving...\n",
      "5m 34s (- 29m 15s) (1600 16%) 5.5916\n",
      "5m 54s (- 28m 49s) (1700 17%) 5.2223\n",
      "new lowest loss, saving...\n",
      "6m 15s (- 28m 30s) (1800 18%) 5.5936\n",
      "6m 37s (- 28m 14s) (1900 19%) 5.5928\n",
      "6m 58s (- 27m 53s) (2000 20%) 5.5201\n",
      "7m 19s (- 27m 33s) (2100 21%) 5.1892\n",
      "new lowest loss, saving...\n",
      "7m 42s (- 27m 18s) (2200 22%) 5.2227\n",
      "8m 4s (- 27m 2s) (2300 23%) 5.3809\n",
      "8m 26s (- 26m 43s) (2400 24%) 5.4193\n",
      "8m 46s (- 26m 19s) (2500 25%) 5.2574\n",
      "9m 8s (- 25m 59s) (2600 26%) 5.2484\n",
      "9m 28s (- 25m 38s) (2700 27%) 5.2625\n",
      "9m 51s (- 25m 20s) (2800 28%) 5.1466\n",
      "new lowest loss, saving...\n",
      "10m 12s (- 25m 0s) (2900 28%) 5.2686\n",
      "10m 35s (- 24m 42s) (3000 30%) 5.2816\n",
      "10m 57s (- 24m 23s) (3100 31%) 5.1927\n",
      "11m 19s (- 24m 3s) (3200 32%) 5.3534\n",
      "11m 42s (- 23m 45s) (3300 33%) 5.1274\n",
      "new lowest loss, saving...\n",
      "12m 2s (- 23m 23s) (3400 34%) 4.9587\n",
      "new lowest loss, saving...\n",
      "12m 25s (- 23m 3s) (3500 35%) 5.1310\n",
      "12m 48s (- 22m 45s) (3600 36%) 5.1986\n",
      "13m 11s (- 22m 27s) (3700 37%) 4.9741\n",
      "13m 33s (- 22m 6s) (3800 38%) 5.1860\n",
      "13m 57s (- 21m 49s) (3900 39%) 5.0412\n",
      "14m 20s (- 21m 30s) (4000 40%) 5.2370\n",
      "14m 42s (- 21m 9s) (4100 41%) 5.1572\n",
      "15m 5s (- 20m 49s) (4200 42%) 5.1387\n",
      "15m 27s (- 20m 28s) (4300 43%) 5.0771\n",
      "15m 50s (- 20m 9s) (4400 44%) 5.1937\n"
     ]
    }
   ],
   "source": [
    "trainIters(encoder, attn_decoder, final_pairs, lang, n_iters = 100000, print_every=1000, \n",
    "           learning_rate=0.01, teacher_forcing_ratio = 1.0,\n",
    "           bidirectional = bidirectional, name = name,\n",
    "           lowest_loss = 6.0, gamma = 0.95)"
   ]
  },
  {
   "cell_type": "code",
   "execution_count": 21,
   "metadata": {},
   "outputs": [],
   "source": [
    "#name = \"_256h_4L_bi_glove\"\n",
    "torch.save(encoder.state_dict(), \"saved_params/encoder\"+name+\"cpu.pth\")\n",
    "torch.save(attn_decoder.state_dict(), \"saved_params/attn_decoder\"+name+\"cpu.pth\")"
   ]
  },
  {
   "cell_type": "code",
   "execution_count": 18,
   "metadata": {},
   "outputs": [
    {
     "name": "stdout",
     "output_type": "stream",
     "text": [
      "input from data > central services don t take kindly to sabotage !\n",
      "output from data= . . .sabotage !\n",
      "bot response < you . . . . . . . . . . . . . . . . . . . . . . . . . . . . .\n",
      "\n",
      "input from data > a legendary monster called mbwun .\n",
      "output from data= a monster ?\n",
      "bot response < you . . . . . . . . . . . . . . . . . . . . . . . . . . . . .\n",
      "\n",
      "input from data > i hope you find the figures correct .\n",
      "output from data= i hope so too .\n",
      "bot response < you . . . . . . . . . . . . . . . . . . . . . . . . . . . . .\n",
      "\n",
      "input from data > by the light by the light\n",
      "output from data= of the silvery moon\n",
      "bot response < you . . . . . . . . . . . . . . . . . . . . . . . . . . . . .\n",
      "\n",
      "input from data > mph mph .\n",
      "output from data= then move out of the way .\n",
      "bot response < you . . . . . . . . . . . . . . . . . . . . . . . . . . . . .\n",
      "\n",
      "input from data > snuff ?\n",
      "output from data= what you see is what i got mister .\n",
      "bot response < you . . . . . . . . . . . . . . . . . . . . . . . . . . . . .\n",
      "\n",
      "input from data > few minutes . want to catch the news .\n",
      "output from data= should i wait up ? we ve got to get up early for the beach tomorrow .\n",
      "bot response < you . . . . . . . . . . . . . . . . . . . . . . . . . . . . .\n",
      "\n",
      "input from data > sure but i can t get it till after school tomorrow .\n",
      "output from data= let s ditch this place and party .\n",
      "bot response < you . . . . . . . . . . . . . . . . . . . . . . . . . . . . .\n",
      "\n",
      "input from data > okay you got yourself a boat .\n",
      "output from data= tell mrs . mulwray to wait for half an hour after you get there . then if i don t show take her down to the boat .\n",
      "bot response < you . . . . . . . . . . . . . . . . . . . . . . . . . . . . .\n",
      "\n",
      "input from data > it s better to be free right ?\n",
      "output from data= yes . actually he was driving me crazy .\n",
      "bot response < you . . . . . . . . . . . . . . . . . . . . . . . . . . . . .\n",
      "\n",
      "input = what does this mean where are we and where are we going ?\n",
      "output = you . . . . . . . . . . . . . . . . . . . . . . . . . . . . .\n"
     ]
    },
    {
     "data": {
      "image/png": "[encoded data removed]",
      "text/plain": [
       "<matplotlib.figure.Figure at 0x108345f60>"
      ]
     },
     "metadata": {},
     "output_type": "display_data"
    },
    {
     "name": "stdout",
     "output_type": "stream",
     "text": [
      "input = why is this happening ?\n",
      "output = you . . . . . . . . . . . . . . . . . . . . . . . . . . . . .\n"
     ]
    },
    {
     "data": {
      "image/png": "[encoded data removed]",
      "text/plain": [
       "<matplotlib.figure.Figure at 0x11ccf3eb8>"
      ]
     },
     "metadata": {},
     "output_type": "display_data"
    },
    {
     "name": "stdout",
     "output_type": "stream",
     "text": [
      "input = tell me something stupid\n",
      "output = you . . . . . . . . . . . . . . . . . . . . . . . . . . . . .\n"
     ]
    },
    {
     "data": {
      "image/png": "[encoded data removed]",
      "text/plain": [
       "<matplotlib.figure.Figure at 0x123866c50>"
      ]
     },
     "metadata": {},
     "output_type": "display_data"
    },
    {
     "name": "stdout",
     "output_type": "stream",
     "text": [
      "input = you can make it if you try\n",
      "output = you . . . . . . . . . . . . . . . . . . . . . . . . . . . . .\n"
     ]
    },
    {
     "data": {
      "image/png": "[encoded data removed]",
      "text/plain": [
       "<matplotlib.figure.Figure at 0x105bfdba8>"
      ]
     },
     "metadata": {},
     "output_type": "display_data"
    },
    {
     "name": "stdout",
     "output_type": "stream",
     "text": [
      "input = what link ?\n",
      "output = you . . . . . . . . . . . . . . . . . . . . . . . . . . . . .\n"
     ]
    },
    {
     "data": {
      "image/png": "[encoded data removed]",
      "text/plain": [
       "<matplotlib.figure.Figure at 0x1237c3550>"
      ]
     },
     "metadata": {},
     "output_type": "display_data"
    },
    {
     "name": "stdout",
     "output_type": "stream",
     "text": [
      "input = hello\n",
      "output = you . . . . . . . . . . . . . . . . . . . . . . . . . . . . .\n"
     ]
    },
    {
     "data": {
      "image/png": "[encoded data removed]",
      "text/plain": [
       "<matplotlib.figure.Figure at 0x1237c36a0>"
      ]
     },
     "metadata": {},
     "output_type": "display_data"
    }
   ],
   "source": [
    "evaluateRandomly(final_pairs, encoder, attn_decoder,  n=10, bidirectional = bidirectional)\n",
    "\n",
    "evaluateAndShowAttention(\"what does this mean where are we and where are we going ?\",\n",
    "                         encoder, attn_decoder, bidirectional = bidirectional  )\n",
    "\n",
    "evaluateAndShowAttention(\"why is this happening ?\",encoder, attn_decoder, bidirectional = bidirectional)\n",
    "\n",
    "evaluateAndShowAttention(\"tell me something stupid\",encoder, attn_decoder, bidirectional = bidirectional)\n",
    "\n",
    "evaluateAndShowAttention(\"you can make it if you try\",encoder, attn_decoder, bidirectional = bidirectional)\n",
    "\n",
    "evaluateAndShowAttention(\"what link ?\",encoder, attn_decoder, bidirectional = bidirectional)\n",
    "\n",
    "evaluateAndShowAttention(\"hello\",encoder, attn_decoder, bidirectional = bidirectional)"
   ]
  },
  {
   "cell_type": "code",
   "execution_count": 14,
   "metadata": {},
   "outputs": [],
   "source": [
    "def evaluate(encoder, decoder, sentence, max_length=30,\n",
    "             bidirectional =bidirectional):\n",
    "    \n",
    "    \n",
    "    input_variable = variableFromSentence(lang, sentence)\n",
    "    input_length = input_variable.size()[0]\n",
    "    encoder_hidden = encoder.initHidden()\n",
    "\n",
    "    encoder_outputs = Variable(torch.zeros(max_length, encoder.hidden_size))\n",
    "    encoder_outputs = encoder_outputs.cuda() if use_cuda else encoder_outputs\n",
    "\n",
    "    for ei in range(input_length):\n",
    "        encoder_output, encoder_hidden = encoder(input_variable[ei],\n",
    "                                                 encoder_hidden)\n",
    "        encoder_outputs[ei] = encoder_outputs[ei] + encoder_output[0][0]\n",
    "\n",
    "    decoder_input = Variable(torch.LongTensor([[lang.SOS_token]]))  # SOS\n",
    "    decoder_input = decoder_input.cuda() if use_cuda else decoder_input\n",
    "    \n",
    "    if bidirectional:\n",
    "        # sum the bidirectional hidden states into num_layers long cause the decoder is not bidirectional\n",
    "        encoder_hidden = encoder_hidden[:encoder.num_layers, :, :] + encoder_hidden[encoder.num_layers:, : ,:]\n",
    "\n",
    "    decoder_hidden = encoder_hidden\n",
    "\n",
    "    decoded_words = []\n",
    "    decoder_attentions = torch.zeros(max_length, max_length)\n",
    "\n",
    "    for di in range(max_length):\n",
    "        decoder_output, decoder_hidden, decoder_attention = decoder(\n",
    "            decoder_input, decoder_hidden, encoder_outputs)\n",
    "        decoder_attentions[di] = decoder_attention.data\n",
    "        topv, topi = decoder_output.data.topk(1)\n",
    "        ni = topi[0][0]\n",
    "        if ni == lang.EOS_token:\n",
    "            decoded_words.append('<EOS>')\n",
    "            break\n",
    "        else:\n",
    "            decoded_words.append(lang.index2word[ni])\n",
    "\n",
    "        decoder_input = Variable(torch.LongTensor([[ni]]))\n",
    "        decoder_input = decoder_input.cuda() if use_cuda else decoder_input\n",
    "\n",
    "    return decoded_words, decoder_attentions[:di + 1]\n",
    "\n",
    "def evaluateRandomly(pairs, encoder, decoder, n=10, bidirectional = False):\n",
    "    for i in range(n):\n",
    "        pair = random.choice(pairs)\n",
    "        print('input from data >', pair[0])\n",
    "        print('output from data=', pair[1])\n",
    "        output_words, attentions = evaluate(encoder, decoder, pair[0], bidirectional = bidirectional)\n",
    "        output_sentence = ' '.join(output_words)\n",
    "        print('bot response <', output_sentence)\n",
    "        print('')\n",
    "        \n",
    "def showAttention(input_sentence, output_words, attentions, bidirectional = False):\n",
    "    # Set up figure with colorbar\n",
    "    fig = plt.figure()\n",
    "    ax = fig.add_subplot(111)\n",
    "    cax = ax.matshow(attentions.numpy(), cmap='bone')\n",
    "    fig.colorbar(cax)\n",
    "\n",
    "    # Set up axes\n",
    "    ax.set_xticklabels([''] + input_sentence.split(' ') +\n",
    "                       ['<EOS>'], rotation=90)\n",
    "    ax.set_yticklabels([''] + output_words)\n",
    "\n",
    "    # Show label at every tick\n",
    "    ax.xaxis.set_major_locator(ticker.MultipleLocator(1))\n",
    "    ax.yaxis.set_major_locator(ticker.MultipleLocator(1))\n",
    "\n",
    "    plt.show()\n",
    "\n",
    "\n",
    "def evaluateAndShowAttention(input_sentence,encoder, attn_decoder, bidirectional = False):\n",
    "    \n",
    "    output_words, attentions = evaluate(encoder, attn_decoder, input_sentence, bidirectional = bidirectional)\n",
    "    \n",
    "    print('input =', input_sentence)\n",
    "    print('output =', ' '.join(output_words))\n",
    "    showAttention(input_sentence, output_words, attentions)"
   ]
  },
  {
   "cell_type": "code",
   "execution_count": null,
   "metadata": {
    "collapsed": true
   },
   "outputs": [],
   "source": []
  }
 ],
 "metadata": {
  "kernelspec": {
   "display_name": "Python 3",
   "language": "python",
   "name": "python3"
  },
  "language_info": {
   "codemirror_mode": {
    "name": "ipython",
    "version": 3
   },
   "file_extension": ".py",
   "mimetype": "text/x-python",
   "name": "python",
   "nbconvert_exporter": "python",
   "pygments_lexer": "ipython3",
   "version": "3.6.4"
  }
 },
 "nbformat": 4,
 "nbformat_minor": 2
}
